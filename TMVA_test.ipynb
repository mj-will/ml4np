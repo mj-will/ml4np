{
 "cells": [
  {
   "cell_type": "code",
   "execution_count": 1,
   "metadata": {},
   "outputs": [
    {
     "name": "stdout",
     "output_type": "stream",
     "text": [
      "--- Launch TMVA GUI to view input file: TMVA.root\n",
      "=== Note: inactive buttons indicate classifiers that were not trained, ===\n",
      "===       or functionalities that were not invoked during the training ===\n"
     ]
    }
   ],
   "source": [
    "TMVA::TMVAGui(\"TMVA.root\")"
   ]
  }
 ],
 "metadata": {
  "kernelspec": {
   "display_name": "ROOT C++",
   "language": "c++",
   "name": "root"
  },
  "language_info": {
   "codemirror_mode": "text/x-c++src",
   "file_extension": ".C",
   "mimetype": " text/x-c++src",
   "name": "c++"
  }
 },
 "nbformat": 4,
 "nbformat_minor": 2
}
