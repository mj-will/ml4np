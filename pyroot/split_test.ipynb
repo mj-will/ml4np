{
 "cells": [
  {
   "cell_type": "code",
   "execution_count": 1,
   "metadata": {},
   "outputs": [],
   "source": [
    "from os.path import isfile\n",
    "import sys"
   ]
  },
  {
   "cell_type": "code",
   "execution_count": 6,
   "metadata": {},
   "outputs": [],
   "source": [
    "import ROOT\n",
    "from ROOT import TMVA, TFile, TTree\n",
    "# Setup TMVA \n",
    "TMVA.Tools.Instance()\n",
    "TMVA.PyMethodBase.PyInitialize()"
   ]
  },
  {
   "cell_type": "code",
   "execution_count": 3,
   "metadata": {},
   "outputs": [],
   "source": [
    "fname = '../data/tmva3/Data2Pi.root'\n",
    "\n",
    "# Load data\n",
    "if not isfile(fname):\n",
    " print('File not found: {0}'.format(fname))\n",
    "\n",
    "data = TFile.Open(fname)\n",
    "dataTree = data.Get('HSParticles')"
   ]
  },
  {
   "cell_type": "code",
   "execution_count": 4,
   "metadata": {},
   "outputs": [],
   "source": [
    "def split(tree):\n",
    "    \"\"\"\n",
    "    Split tree into signals. Also remove possible nulls\n",
    "    \"\"\"\n",
    "    \n",
    "    ROOT.gROOT.cd()\n",
    "    # create copys\n",
    "    signalTree = tree.CopyTree('Correct==1')\n",
    "    backgroundTree = tree.CopyTree('Correct==0')\n",
    "    \n",
    "    return signalTree, backgroundTree"
   ]
  },
  {
   "cell_type": "code",
   "execution_count": 7,
   "metadata": {},
   "outputs": [],
   "source": [
    "signalTree, backgroundTree = split(dataTree)"
   ]
  }
 ],
 "metadata": {
  "kernelspec": {
   "display_name": "Python 2",
   "language": "python",
   "name": "python2"
  },
  "language_info": {
   "codemirror_mode": {
    "name": "ipython",
    "version": 2
   },
   "file_extension": ".py",
   "mimetype": "text/x-python",
   "name": "python",
   "nbconvert_exporter": "python",
   "pygments_lexer": "ipython2",
   "version": "2.7.15"
  }
 },
 "nbformat": 4,
 "nbformat_minor": 2
}
