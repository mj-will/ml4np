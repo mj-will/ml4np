{
 "cells": [
  {
   "cell_type": "code",
   "execution_count": 5,
   "metadata": {},
   "outputs": [],
   "source": [
    "import os, sys\n",
    "import numpy as np\n",
    "import matplotlib"
   ]
  },
  {
   "cell_type": "code",
   "execution_count": 4,
   "metadata": {},
   "outputs": [],
   "source": [
    "import ROOT\n",
    "from ROOT import TMVA\n",
    "TMVA.Tools.Instance()\n",
    "TMVA.PyMethodBase.PyInitialize()"
   ]
  },
  {
   "cell_type": "code",
   "execution_count": 9,
   "metadata": {},
   "outputs": [
    {
     "data": {
      "text/plain": [
       "['TMVAClassification_BDT+.weights.xml',\n",
       " 'TMVAClassification_PyKeras-3.weights.xml',\n",
       " 'TrainedModel_PyKeras-4.h5',\n",
       " 'TMVAClassification_PyKeras-3.class.C',\n",
       " 'TMVAClassification_BDT.weights.xml',\n",
       " 'TMVAClassification_BDT+.class.C',\n",
       " 'TrainedModel_PyKeras-3.h5',\n",
       " 'TMVAClassification_PyKeras-2.class.C',\n",
       " 'TMVAClassification_PyKeras-4.weights.xml',\n",
       " 'TrainedModel_PyKeras-2.h5',\n",
       " 'TMVAClassification_PyKeras-2.weights.xml',\n",
       " 'TMVAClassification_BDT.class.C',\n",
       " 'TMVAClassification_PyKeras-4.class.C']"
      ]
     },
     "execution_count": 9,
     "metadata": {},
     "output_type": "execute_result"
    }
   ],
   "source": [
    "results_dir = './dataset/weights'\n",
    "os.listdir(results_dir)"
   ]
  },
  {
   "cell_type": "code",
   "execution_count": 15,
   "metadata": {},
   "outputs": [],
   "source": [
    "import xml.etree.ElementTree as ET\n",
    "f = ET.parse('./dataset/weights/TMVAClassification_BDT.weights.xml')\n",
    "root = f.getroot()"
   ]
  },
  {
   "cell_type": "code",
   "execution_count": 18,
   "metadata": {},
   "outputs": [
    {
     "data": {
      "text/plain": [
       "['Method']"
      ]
     },
     "execution_count": 18,
     "metadata": {},
     "output_type": "execute_result"
    }
   ],
   "source": [
    "root.keys()"
   ]
  },
  {
   "cell_type": "code",
   "execution_count": 20,
   "metadata": {},
   "outputs": [
    {
     "data": {
      "text/plain": [
       "'BDT::BDT'"
      ]
     },
     "execution_count": 20,
     "metadata": {},
     "output_type": "execute_result"
    }
   ],
   "source": [
    "root.attrib['Method']"
   ]
  },
  {
   "cell_type": "code",
   "execution_count": 30,
   "metadata": {},
   "outputs": [
    {
     "name": "stdout",
     "output_type": "stream",
     "text": [
      "<ROOT.TDirectoryFile object (\"dataset\") at 0x560916c62740>\n"
     ]
    },
    {
     "data": {
      "text/plain": [
       "<ROOT.TDirectoryFile object (\"BDT\") at 0x56091660eba0>"
      ]
     },
     "execution_count": 30,
     "metadata": {},
     "output_type": "execute_result"
    }
   ],
   "source": [
    "f = ROOT.TFile.Open('TMVA.root')\n",
    "dataset = f.Get('dataset')\n",
    "print(dataset)\n",
    "bdt = dataset.Get('Method_BDT').Get('BDT')\n"
   ]
  }
 ],
 "metadata": {
  "kernelspec": {
   "display_name": "Python 2",
   "language": "python",
   "name": "python2"
  },
  "language_info": {
   "codemirror_mode": {
    "name": "ipython",
    "version": 2
   },
   "file_extension": ".py",
   "mimetype": "text/x-python",
   "name": "python",
   "nbconvert_exporter": "python",
   "pygments_lexer": "ipython2",
   "version": "2.7.15"
  }
 },
 "nbformat": 4,
 "nbformat_minor": 2
}
