{
 "cells": [
  {
   "cell_type": "code",
   "execution_count": 1,
   "metadata": {},
   "outputs": [
    {
     "name": "stderr",
     "output_type": "stream",
     "text": [
      "/home/2136420/envs/pytorch/lib/python2.7/site-packages/pandas/_libs/__init__.py:4: RuntimeWarning: numpy.dtype size changed, may indicate binary incompatibility. Expected 96, got 88\n",
      "  from .tslib import iNaT, NaT, Timestamp, Timedelta, OutOfBoundsDatetime\n",
      "/home/2136420/envs/pytorch/lib/python2.7/site-packages/pandas/__init__.py:26: RuntimeWarning: numpy.dtype size changed, may indicate binary incompatibility. Expected 96, got 88\n",
      "  from pandas._libs import (hashtable as _hashtable,\n",
      "/home/2136420/envs/pytorch/lib/python2.7/site-packages/pandas/core/dtypes/common.py:6: RuntimeWarning: numpy.dtype size changed, may indicate binary incompatibility. Expected 96, got 88\n",
      "  from pandas._libs import algos, lib\n",
      "/home/2136420/envs/pytorch/lib/python2.7/site-packages/pandas/core/util/hashing.py:7: RuntimeWarning: numpy.dtype size changed, may indicate binary incompatibility. Expected 96, got 88\n",
      "  from pandas._libs import hashing, tslib\n",
      "/home/2136420/envs/pytorch/lib/python2.7/site-packages/pandas/core/indexes/base.py:7: RuntimeWarning: numpy.dtype size changed, may indicate binary incompatibility. Expected 96, got 88\n",
      "  from pandas._libs import (lib, index as libindex, tslib as libts,\n",
      "/home/2136420/envs/pytorch/lib/python2.7/site-packages/pandas/tseries/offsets.py:21: RuntimeWarning: numpy.dtype size changed, may indicate binary incompatibility. Expected 96, got 88\n",
      "  import pandas._libs.tslibs.offsets as liboffsets\n",
      "/home/2136420/envs/pytorch/lib/python2.7/site-packages/pandas/core/ops.py:16: RuntimeWarning: numpy.dtype size changed, may indicate binary incompatibility. Expected 96, got 88\n",
      "  from pandas._libs import algos as libalgos, ops as libops\n",
      "/home/2136420/envs/pytorch/lib/python2.7/site-packages/pandas/core/indexes/interval.py:32: RuntimeWarning: numpy.dtype size changed, may indicate binary incompatibility. Expected 96, got 88\n",
      "  from pandas._libs.interval import (\n",
      "/home/2136420/envs/pytorch/lib/python2.7/site-packages/pandas/core/internals.py:14: RuntimeWarning: numpy.dtype size changed, may indicate binary incompatibility. Expected 96, got 88\n",
      "  from pandas._libs import internals as libinternals\n",
      "/home/2136420/envs/pytorch/lib/python2.7/site-packages/pandas/core/sparse/array.py:33: RuntimeWarning: numpy.dtype size changed, may indicate binary incompatibility. Expected 96, got 88\n",
      "  import pandas._libs.sparse as splib\n",
      "/home/2136420/envs/pytorch/lib/python2.7/site-packages/pandas/core/window.py:36: RuntimeWarning: numpy.dtype size changed, may indicate binary incompatibility. Expected 96, got 88\n",
      "  import pandas._libs.window as _window\n",
      "/home/2136420/envs/pytorch/lib/python2.7/site-packages/pandas/core/groupby/groupby.py:68: RuntimeWarning: numpy.dtype size changed, may indicate binary incompatibility. Expected 96, got 88\n",
      "  from pandas._libs import (lib, reduction,\n",
      "/home/2136420/envs/pytorch/lib/python2.7/site-packages/pandas/core/reshape/reshape.py:30: RuntimeWarning: numpy.dtype size changed, may indicate binary incompatibility. Expected 96, got 88\n",
      "  from pandas._libs import algos as _algos, reshape as _reshape\n",
      "/home/2136420/envs/pytorch/lib/python2.7/site-packages/pandas/io/parsers.py:45: RuntimeWarning: numpy.dtype size changed, may indicate binary incompatibility. Expected 96, got 88\n",
      "  import pandas._libs.parsers as parsers\n",
      "/home/2136420/envs/pytorch/lib/python2.7/site-packages/pandas/io/pytables.py:50: RuntimeWarning: numpy.dtype size changed, may indicate binary incompatibility. Expected 96, got 88\n",
      "  from pandas._libs import algos, lib, writers as libwriters\n"
     ]
    }
   ],
   "source": [
    "# Generative Adversarial Networks (GAN) example in PyTorch.\n",
    "# See related blog post at https://medium.com/@devnag/generative-adversarial-networks-gans-in-50-lines-of-code-pytorch-e81b79659e3f#.sch4xgsa9\n",
    "import numpy as np\n",
    "import pandas as pd\n",
    "import torch\n",
    "import torch.nn as nn\n",
    "import torch.nn.functional as F\n",
    "import torch.optim as optim\n",
    "from torch.autograd import Variable\n",
    "\n",
    "device = torch.device('cuda')\n",
    "torch.set_default_tensor_type('torch.cuda.FloatTensor')"
   ]
  },
  {
   "cell_type": "code",
   "execution_count": 2,
   "metadata": {},
   "outputs": [],
   "source": [
    "# Data params\n",
    "data_mean = 1\n",
    "data_stddev = 1.5"
   ]
  },
  {
   "cell_type": "code",
   "execution_count": 3,
   "metadata": {},
   "outputs": [],
   "source": [
    "# Model params\n",
    "g_input_size = 1     # Random noise dimension coming into generator, per output vector\n",
    "g_hidden_size = 50   # Generator complexity\n",
    "g_output_size = 1    # size of generated output vector\n",
    "d_input_size = 100   # Minibatch size - cardinality of distributions\n",
    "d_hidden_size = 50   # Discriminator complexity\n",
    "d_output_size = 1    # Single dimension for 'real' vs. 'fake'\n",
    "minibatch_size = d_input_size\n",
    "\n",
    "d_learning_rate = 2e-4  # 2e-4\n",
    "g_learning_rate = 2e-4\n",
    "optim_betas = (0.9, 0.999)\n",
    "num_epochs = 20000\n",
    "print_interval = 200\n",
    "d_steps = 1  # 'k' steps in the original GAN paper. Can put the discriminator on higher training freq than generator\n",
    "g_steps = 1"
   ]
  },
  {
   "cell_type": "code",
   "execution_count": 4,
   "metadata": {},
   "outputs": [
    {
     "name": "stdout",
     "output_type": "stream",
     "text": [
      "Using data [Data and variances]\n"
     ]
    }
   ],
   "source": [
    "# ### Uncomment only one of these\n",
    "#(name, preprocess, d_input_func) = (\"Raw data\", lambda data: data, lambda x: x)\n",
    "(name, preprocess, d_input_func) = (\"Data and variances\", lambda data: decorate_with_diffs(data, 2.0), lambda x: x * 2)\n",
    "\n",
    "print(\"Using data [%s]\" % (name))"
   ]
  },
  {
   "cell_type": "code",
   "execution_count": 5,
   "metadata": {},
   "outputs": [],
   "source": [
    "# ##### DATA: Target data and generator input data\n",
    "def get_distribution_sampler(mu, sigma):\n",
    "    return lambda n: torch.Tensor(np.random.normal(mu, sigma, (1, n)))  # Gaussian\n",
    "\n",
    "def get_generator_input_sampler():\n",
    "    return lambda m, n: torch.rand(m, n)  # Uniform-dist data into generator, _NOT_ Gaussian"
   ]
  },
  {
   "cell_type": "code",
   "execution_count": 6,
   "metadata": {},
   "outputs": [],
   "source": [
    "class Generator(nn.Module):\n",
    "    def __init__(self, input_size, hidden_size, output_size):\n",
    "        super(Generator, self).__init__()\n",
    "        self.map1 = nn.Linear(input_size, hidden_size)\n",
    "        self.map2 = nn.Linear(hidden_size, hidden_size)\n",
    "        self.map3 = nn.Linear(hidden_size, output_size)\n",
    "\n",
    "    def forward(self, x):\n",
    "        x = F.elu(self.map1(x))\n",
    "        x = F.sigmoid(self.map2(x))\n",
    "        return self.map3(x)"
   ]
  },
  {
   "cell_type": "code",
   "execution_count": 7,
   "metadata": {},
   "outputs": [],
   "source": [
    "class Discriminator(nn.Module):\n",
    "    def __init__(self, input_size, hidden_size, output_size):\n",
    "        super(Discriminator, self).__init__()\n",
    "        self.map1 = nn.Linear(input_size, hidden_size)\n",
    "        self.map2 = nn.Linear(hidden_size, hidden_size)\n",
    "        self.map3 = nn.Linear(hidden_size, output_size)\n",
    "\n",
    "    def forward(self, x):\n",
    "        x = F.elu(self.map1(x))\n",
    "        x = F.elu(self.map2(x))\n",
    "        return F.sigmoid(self.map3(x))"
   ]
  },
  {
   "cell_type": "code",
   "execution_count": 8,
   "metadata": {},
   "outputs": [],
   "source": [
    "def extract(v):\n",
    "    return v.data.storage().tolist()\n",
    "\n",
    "def stats(d):\n",
    "    return [np.mean(d), np.std(d)]\n",
    "\n",
    "def decorate_with_diffs(data, exponent):\n",
    "    mean = torch.mean(data.data, 1, keepdim=True)\n",
    "    mean_broadcast = torch.mul(torch.ones(data.size()), mean.tolist()[0][0])\n",
    "    diffs = torch.pow(data - Variable(mean_broadcast), exponent)\n",
    "    return torch.cat([data, diffs], 1)"
   ]
  },
  {
   "cell_type": "code",
   "execution_count": 9,
   "metadata": {},
   "outputs": [],
   "source": [
    "d_sampler = get_distribution_sampler(data_mean, data_stddev)\n",
    "gi_sampler = get_generator_input_sampler()\n",
    "G = Generator(input_size=g_input_size, hidden_size=g_hidden_size, output_size=g_output_size)\n",
    "D = Discriminator(input_size=d_input_func(d_input_size), hidden_size=d_hidden_size, output_size=d_output_size)\n",
    "criterion = nn.BCELoss()  # Binary cross entropy: http://pytorch.org/docs/nn.html#bceloss\n",
    "d_optimizer = optim.Adam(D.parameters(), lr=d_learning_rate, betas=optim_betas)\n",
    "g_optimizer = optim.Adam(G.parameters(), lr=g_learning_rate, betas=optim_betas)"
   ]
  },
  {
   "cell_type": "code",
   "execution_count": 10,
   "metadata": {},
   "outputs": [],
   "source": [
    "df = pd.DataFrame(columns=['epoch', 'real_error', 'fake_error', 'g_error', 'real_mean', 'real_std', 'fake_mean', 'fake_std'])\n",
    "d_real_output = []\n",
    "d_fake_output = []"
   ]
  },
  {
   "cell_type": "code",
   "execution_count": 11,
   "metadata": {
    "scrolled": true
   },
   "outputs": [
    {
     "name": "stderr",
     "output_type": "stream",
     "text": [
      "/home/2136420/envs/pytorch/lib/python2.7/site-packages/torch/nn/functional.py:1006: UserWarning: nn.functional.sigmoid is deprecated. Use torch.sigmoid instead.\n",
      "  warnings.warn(\"nn.functional.sigmoid is deprecated. Use torch.sigmoid instead.\")\n",
      "/home/2136420/envs/pytorch/lib/python2.7/site-packages/torch/nn/functional.py:1594: UserWarning: Using a target size (torch.Size([1])) that is different to the input size (torch.Size([1, 1])) is deprecated. Please ensure they have the same size.\n",
      "  \"Please ensure they have the same size.\".format(target.size(), input.size()))\n"
     ]
    },
    {
     "name": "stdout",
     "output_type": "stream",
     "text": [
      "0: D: 0.605687379837/0.659008681774 G: 0.728863835335 (Real: [0.7598753695655615, 1.3707921802286263], Fake: [0.13410257287323474, 0.008100701914571896]) \n",
      "200: D: 4.22009798058e-05/0.695339560509 G: 0.705418586731 (Real: [0.8864523467980325, 1.5604896592696567], Fake: [0.14571089506149293, 0.0199318093513481]) \n",
      "400: D: 1.96697255888e-05/0.290773570538 G: 1.36464810371 (Real: [1.1894334703695495, 1.3846435641215407], Fake: [-0.004035443887114525, 0.046493924514643806]) \n",
      "600: D: 8.16616957309e-05/0.266821950674 G: 1.51177060604 (Real: [0.7928299950412474, 1.2885463264052641], Fake: [0.11044487837702036, 0.11579134725963976]) \n",
      "800: D: 9.96639355435e-05/0.104352608323 G: 2.34512615204 (Real: [1.285870892331004, 1.4362150336463926], Fake: [0.4413419736176729, 0.24895594699580278]) \n",
      "1000: D: 0.0834946483374/0.0326518975198 G: 2.63417887688 (Real: [0.7045715267956257, 1.3095027611798322], Fake: [0.3606487814337015, 0.4984170753707988]) \n",
      "1200: D: 0.328882336617/0.0989447236061 G: 2.66301655769 (Real: [1.2063034465018427, 1.5356599433305453], Fake: [0.44215142250061035, 1.1808055944088909]) \n",
      "1400: D: 1.50665175915/0.122085012496 G: 0.43680369854 (Real: [0.9878676989488304, 1.5242367618007788], Fake: [1.435757521316409, 1.8290643077363586]) \n",
      "1600: D: 2.05564212799/0.968018472195 G: 0.236800298095 (Real: [0.7234792353305965, 1.765845294841148], Fake: [2.1035378707945345, 1.9195201103869595]) \n",
      "1800: D: 1.32937979698/0.0950209200382 G: 1.11962103844 (Real: [1.0719638504087925, 1.352944529702761], Fake: [1.3411205508559942, 2.099058355245354]) \n",
      "2000: D: 0.859289228916/1.01353406906 G: 1.24994075298 (Real: [0.8727635721862316, 1.266727883383309], Fake: [1.613075105920434, 1.8757922143202468]) \n",
      "2200: D: 0.09018509835/0.313650965691 G: 0.945597410202 (Real: [0.9816578068211674, 1.4990480621524382], Fake: [0.9792315071076154, 1.8036800746491806]) \n",
      "2400: D: 0.758836984634/0.48076826334 G: 0.670288741589 (Real: [0.8881378479115665, 1.576518537243848], Fake: [0.9505252431333066, 1.4220620398181827]) \n",
      "2600: D: 0.441936999559/0.969586730003 G: 0.773847937584 (Real: [1.2218755153007805, 1.5178326467607872], Fake: [0.7955432143062353, 1.2821857441561306]) \n",
      "2800: D: 0.169718980789/0.398064792156 G: 0.643481969833 (Real: [1.127602735608816, 1.5163680294090098], Fake: [0.7385833467543125, 1.2626905115209015]) \n",
      "3000: D: 0.565284669399/0.528737306595 G: 1.13884532452 (Real: [0.9459795290604234, 1.5722583560933103], Fake: [1.1073951570689677, 1.4677677187559586]) \n",
      "3200: D: 0.589185357094/1.21912205219 G: 1.5848197937 (Real: [1.164087523710914, 1.457081229082368], Fake: [1.3615234538167715, 1.5276822940460926]) \n",
      "3400: D: 0.639825046062/0.389733761549 G: 1.1215981245 (Real: [0.8749924391508103, 1.5548790319919443], Fake: [1.3575413277000188, 1.5931978984230577]) \n",
      "3600: D: 0.315860033035/0.370180279016 G: 1.53576231003 (Real: [1.2739299041032792, 1.429494385263609], Fake: [1.0049836514890194, 1.5360095382802932]) \n",
      "3800: D: 0.0343696288764/0.617381572723 G: 0.600962758064 (Real: [1.1744859815668314, 1.6724257825165223], Fake: [1.0935879369825126, 1.4020637846899702]) \n",
      "4000: D: 0.278956145048/0.953977227211 G: 0.90674841404 (Real: [1.1079851344972849, 1.3075630117112715], Fake: [1.2743333783745765, 1.316247075508558]) \n",
      "4200: D: 0.393226534128/0.257440149784 G: 1.96798717976 (Real: [0.9321220138622448, 1.525182561374886], Fake: [0.9724033595621586, 1.633842454951819]) \n",
      "4400: D: 0.0139712588862/0.429394841194 G: 1.54679369926 (Real: [0.9748788895644247, 1.6482054117254286], Fake: [1.0633371818065642, 1.4614072500941933]) \n",
      "4600: D: 0.938199996948/0.198546096683 G: 1.98850739002 (Real: [1.114332441650331, 1.3960502019877938], Fake: [0.7466717242449522, 1.5543357244863134]) \n",
      "4800: D: 0.607860863209/0.570284426212 G: 0.554069519043 (Real: [0.7517894690297544, 1.4034177053041612], Fake: [1.1238444844633342, 1.4366051144070766]) \n",
      "5000: D: 0.902099609375/0.272352397442 G: 0.607613623142 (Real: [0.7712328320741654, 1.2525978376045006], Fake: [1.0946296852827073, 1.5432145232620056]) \n",
      "5200: D: 0.114535391331/0.138376325369 G: 2.1487903595 (Real: [1.0839046494290232, 1.4835002178568022], Fake: [0.6409927330911159, 1.543795540956654]) \n",
      "5400: D: 0.0959244892001/0.541693508625 G: 1.29733932018 (Real: [0.9802046230435372, 1.63752100794846], Fake: [0.9023152924329042, 1.4915942610123594]) \n",
      "5600: D: 0.501089036465/0.724114060402 G: 1.00343859196 (Real: [1.1154310328885912, 1.5059682842616182], Fake: [0.9883976162970066, 1.47775593569246]) \n",
      "5800: D: 1.11576473713/0.938336730003 G: 0.205928176641 (Real: [1.3209818965313025, 1.657722611709007], Fake: [1.2691513503715397, 1.3853947025128341]) \n",
      "6000: D: 0.573728322983/0.589937150478 G: 0.390584051609 (Real: [1.041315721871797, 1.5171798752699788], Fake: [0.5957817830890417, 1.6212122102382678]) \n",
      "6200: D: 0.640423059464/0.0770712047815 G: 1.46938157082 (Real: [1.0543387334235013, 1.593733215550684], Fake: [0.7407298620790244, 1.519857652014451]) \n",
      "6400: D: 1.07977390289/0.912053823471 G: 0.292665660381 (Real: [0.8164859941974282, 1.4769468811860966], Fake: [0.9081103217601776, 1.6194680239646013]) \n",
      "6600: D: 0.854662656784/0.831155061722 G: 0.418017059565 (Real: [0.885724931245204, 1.5124182663319878], Fake: [1.0752327592670918, 1.4209474821734007]) \n",
      "6800: D: 0.281635731459/1.18692100048 G: 0.799278199673 (Real: [0.7645581256225705, 1.6127393328506743], Fake: [1.0925144223123788, 1.5547303343773928]) \n",
      "7000: D: 1.03230571747/1.94854772091 G: 1.08412313461 (Real: [0.7348923756834119, 1.4043591366057275], Fake: [1.1066632156074048, 1.3831240350248621]) \n",
      "7200: D: 0.700383722782/0.60815602541 G: 0.431889921427 (Real: [1.192971260305494, 1.5629936945942682], Fake: [0.9943201951868832, 1.5065123042584354]) \n",
      "7400: D: 0.527785778046/0.684802174568 G: 0.972448766232 (Real: [1.1403070739563554, 1.4304846896414938], Fake: [0.8168440522998571, 1.5041098278073344]) \n",
      "7600: D: 0.846086800098/1.24146771431 G: 0.303447216749 (Real: [0.9138640808447963, 1.5277701756834503], Fake: [1.0794793926551938, 1.5840107737083384]) \n",
      "7800: D: 0.797850012779/0.697582900524 G: 0.582248210907 (Real: [0.9543001820147038, 1.4634870247466303], Fake: [0.9305753608047962, 1.7011167522526782]) \n",
      "8000: D: 0.68628013134/0.813781619072 G: 0.466727674007 (Real: [0.9207093031890691, 1.5193213423529661], Fake: [1.0945463643968105, 1.5611043884492604]) \n",
      "8200: D: 0.532586753368/1.11279714108 G: 0.581156671047 (Real: [1.0325667835772037, 1.5195069144522309], Fake: [0.8986898853629828, 1.6288271081172323]) \n",
      "8400: D: 0.3925139606/0.405214339495 G: 0.428905159235 (Real: [1.1838970844913275, 1.4918707006641014], Fake: [1.13351855635643, 1.411101994903659]) \n",
      "8600: D: 1.10161697865/0.841506421566 G: 0.58400785923 (Real: [0.9253668640612159, 1.2218462261473069], Fake: [1.1170390482991934, 1.4067208791178727]) \n",
      "8800: D: 0.408383369446/0.355233043432 G: 1.14266324043 (Real: [0.7937565951328724, 1.5267982323765719], Fake: [0.9005423541367054, 1.608052454343223]) \n",
      "9000: D: 0.308100491762/0.457786262035 G: 1.03643321991 (Real: [1.0815120027586818, 1.4488802239227145], Fake: [0.8370117839798331, 1.4228859171002055]) \n",
      "9200: D: 0.833949923515/1.11759531498 G: 1.11401534081 (Real: [1.1311786168068647, 1.6237641962286096], Fake: [0.9953423086740076, 1.5487251048678061]) \n",
      "9400: D: 0.621545433998/0.549067735672 G: 0.420448720455 (Real: [1.1195056589506567, 1.547683188576211], Fake: [1.1208259350061416, 1.588704992843643]) \n",
      "9600: D: 0.324349045753/1.44538462162 G: 0.756164669991 (Real: [0.8679517247993499, 1.3708870306012477], Fake: [0.9593266009539366, 1.601758071454902]) \n",
      "9800: D: 0.503317594528/0.51038312912 G: 0.859750509262 (Real: [0.9853731546550989, 1.3291038715787382], Fake: [0.9287828841805458, 1.569209709734033]) \n",
      "10000: D: 0.258659303188/0.39266833663 G: 1.73037576675 (Real: [1.1316178699024022, 1.4080790093526157], Fake: [0.8416046869382262, 1.4978776093735353]) \n",
      "10200: D: 0.782736599445/0.234572067857 G: 2.82322764397 (Real: [0.8273294976726174, 1.6617664370928338], Fake: [0.8060560987330974, 1.552285257793281]) \n",
      "10400: D: 0.620431423187/0.142922446132 G: 0.884608626366 (Real: [0.9323862039484083, 1.56723025625816], Fake: [0.8054618479311466, 1.696395332511358]) \n",
      "10600: D: 0.329233795404/0.675021350384 G: 1.22778487206 (Real: [0.7008772651784239, 1.516166117913112], Fake: [0.91105298794806, 1.6154872457429947]) \n"
     ]
    },
    {
     "name": "stdout",
     "output_type": "stream",
     "text": [
      "10800: D: 0.200211122632/1.03533029556 G: 1.24410307407 (Real: [0.7144108285568654, 1.4045547253438266], Fake: [0.8524526010453701, 1.5354982578341394]) \n",
      "11000: D: 1.27600562572/0.383040755987 G: 1.28540945053 (Real: [0.6955050136893988, 1.6866153653727125], Fake: [0.9955906976759433, 1.5229653859425827]) \n",
      "11200: D: 0.510285615921/0.569171130657 G: 0.99515414238 (Real: [1.2114519394189118, 1.577663896177027], Fake: [1.0445172860473395, 1.4263705066112253]) \n",
      "11400: D: 0.189602151513/0.362913519144 G: 2.27700638771 (Real: [0.9675533610582352, 1.7112018726094398], Fake: [1.2740564133040606, 1.373336772665148]) \n",
      "11600: D: 0.0352006144822/0.535642206669 G: 1.97182500362 (Real: [1.0749441282637417, 1.6282664945022585], Fake: [1.255885235965252, 1.3630214878420943]) \n",
      "11800: D: 0.239000946283/0.0315247029066 G: 1.34857904911 (Real: [1.0707374381273984, 1.4989984896736666], Fake: [0.8714402735233306, 1.772816052419463]) \n",
      "12000: D: 0.263301968575/0.830766439438 G: 3.94252038002 (Real: [0.9305624793097377, 1.596412148571269], Fake: [1.0211561539024114, 1.5112241718199175]) \n",
      "12200: D: 0.0836836770177/0.367360711098 G: 0.978461265564 (Real: [0.8616010642424226, 1.4202549272503784], Fake: [0.9481823507323861, 1.5259809596836789]) \n",
      "12400: D: 0.0239419545978/0.540343463421 G: 0.984547555447 (Real: [0.9767096443660557, 1.5223490932492405], Fake: [1.0365837340056896, 1.521501539310693]) \n",
      "12600: D: 0.737418711185/0.48174777627 G: 0.316068977118 (Real: [1.1172752621024846, 1.4478073158448774], Fake: [1.2460654301941394, 1.4311376179262913]) \n",
      "12800: D: 0.106441229582/0.158824980259 G: 1.2023191452 (Real: [1.0475576947629452, 1.4621077976970722], Fake: [1.266478955335915, 1.4140410115866997]) \n",
      "13000: D: 0.219416633248/0.0811127722263 G: 1.6454179287 (Real: [0.8564239737391471, 1.5943632840008235], Fake: [1.2768716165423393, 1.4897178208532718]) \n",
      "13200: D: 0.0996539443731/0.186562374234 G: 1.93790769577 (Real: [1.0009250418934972, 1.4380610162906406], Fake: [1.049133154824376, 1.6676777670583127]) \n",
      "13400: D: 1.85444915295/0.0377282351255 G: 1.89439809322 (Real: [0.7404153665527702, 1.4871725445371167], Fake: [1.6173055672645569, 1.3873922195026525]) \n",
      "13600: D: 0.225835174322/0.0860412195325 G: 1.25257921219 (Real: [1.0182161035388708, 1.3479188198885106], Fake: [1.2947798607125878, 1.4906889529074578]) \n",
      "13800: D: 2.36163449287/0.0957883670926 G: 2.96105051041 (Real: [0.9695801743492484, 1.5017275074222631], Fake: [0.8668991000950337, 1.5482562454913453]) \n",
      "14000: D: 0.0016461443156/0.925658941269 G: 1.43073666096 (Real: [0.5834590970538557, 1.488927394445214], Fake: [1.2084364015981555, 1.429040442387841]) \n",
      "14200: D: 0.0443204641342/0.76617872715 G: 1.64419794083 (Real: [0.93651788080213, 1.3978263118380223], Fake: [1.4383988690376281, 1.4305792360998522]) \n",
      "14400: D: 2.78209495544/0.0564353913069 G: 2.71708393097 (Real: [1.2436750534074963, 1.2711821918344872], Fake: [1.3759534758329393, 1.6636938190599189]) \n",
      "14600: D: 0.0384847708046/0.183717370033 G: 1.60533344746 (Real: [1.0224891305156052, 1.4967742795037093], Fake: [1.2702478781342506, 1.605107728151015]) \n",
      "14800: D: 0.279853492975/0.0746465027332 G: 0.399176865816 (Real: [0.6645087215118111, 1.3548942829559107], Fake: [1.3964492201060057, 1.5769548983117634]) \n",
      "15000: D: 0.753374099731/0.401421606541 G: 2.51422691345 (Real: [0.8078900721110404, 1.2935648030658013], Fake: [1.4795076650008558, 1.63960218077418]) \n",
      "15200: D: 0.77090960741/3.77602314949 G: 1.90556716919 (Real: [0.9609165785834193, 1.3998026692778027], Fake: [0.7317556130886078, 1.4597625690962968]) \n",
      "15400: D: 0.978808522224/1.14703536034 G: 0.727583110332 (Real: [0.9058654159680009, 1.4527378537238989], Fake: [0.7343312631174922, 1.2853283884903477]) \n",
      "15600: D: 0.190137460828/0.338661730289 G: 0.74900829792 (Real: [0.67243093742989, 1.4569680991832632], Fake: [1.6011397729068995, 1.6602217543122826]) \n",
      "15800: D: 0.36804163456/1.00137746334 G: 0.184667080641 (Real: [0.7758030333335045, 1.4753106008369579], Fake: [1.4110340066626668, 1.6195916091669809]) \n",
      "16000: D: 0.627207577229/1.75806105137 G: 0.19147823751 (Real: [0.7798050799593329, 1.4718350482836764], Fake: [0.5276825831085443, 1.1974554271243858]) \n",
      "16200: D: 0.857149779797/0.759003043175 G: 0.564713537693 (Real: [1.2894407468743156, 1.4903121922083156], Fake: [1.1095693147182464, 1.4467540953613656]) \n",
      "16400: D: 0.893496632576/0.830433547497 G: 0.4860855937 (Real: [1.198834975361824, 1.5149519286850086], Fake: [1.0738036653399468, 1.5695832962284781]) \n",
      "16600: D: 1.20489704609/0.828384101391 G: 0.658456265926 (Real: [0.6647196140512824, 1.4645803675849831], Fake: [1.0070900823175908, 1.524880788967435]) \n",
      "16800: D: 0.537615418434/0.840883433819 G: 0.592850029469 (Real: [0.8988753013126553, 1.4256212282653815], Fake: [0.9998892860487103, 1.4254791908796665]) \n",
      "17000: D: 0.634057819843/0.70117276907 G: 0.497572481632 (Real: [0.831827391134575, 1.527186693836077], Fake: [1.3195308025181294, 1.6498424578597302]) \n",
      "17200: D: 0.754220485687/0.717561483383 G: 0.522776126862 (Real: [1.0734668093407527, 1.5168497366245919], Fake: [0.9646150022745132, 1.4160813087345654]) \n",
      "17400: D: 0.641855120659/0.840915322304 G: 0.686993837357 (Real: [0.850946590974927, 1.562376971043455], Fake: [0.9285596926137805, 1.4135498131518776]) \n",
      "17600: D: 0.628037810326/0.65616774559 G: 1.0581099987 (Real: [1.022760219424963, 1.4473186462157703], Fake: [0.9737067869305611, 1.5232187258888226]) \n",
      "17800: D: 0.676051735878/0.740745484829 G: 0.551021575928 (Real: [0.7390306195151061, 1.4486860550618212], Fake: [0.7784812258556485, 1.4828129961261745]) \n",
      "18000: D: 0.66694778204/0.803750872612 G: 0.673175215721 (Real: [0.9834881310537458, 1.4917380467400303], Fake: [1.060734013095498, 1.5455342107998258]) \n",
      "18200: D: 0.570910334587/0.687011480331 G: 0.679955601692 (Real: [1.1465035900566727, 1.5054189762380692], Fake: [0.8248406530916691, 1.4016639261570354]) \n",
      "18400: D: 0.608911514282/0.777027964592 G: 0.603930652142 (Real: [0.8785175760649144, 1.4989459092534234], Fake: [1.2749129037559033, 1.5529581062824542]) \n",
      "18600: D: 0.963247895241/0.801558554173 G: 0.817776620388 (Real: [1.023704508561641, 1.3023168624363057], Fake: [0.9758173520863056, 1.4471821941877268]) \n",
      "18800: D: 0.600934147835/0.81928473711 G: 0.700572013855 (Real: [0.8017569060437382, 1.5592091253439555], Fake: [0.6103806092590094, 1.342327387590224]) \n",
      "19000: D: 0.807759225368/0.520669519901 G: 0.945296525955 (Real: [0.7644250316917897, 1.3802300967696548], Fake: [0.933717544414103, 1.3635391890988322]) \n",
      "19200: D: 0.748026609421/0.664651453495 G: 0.724331438541 (Real: [1.1353893484233413, 1.3777056504828633], Fake: [1.0015201266855, 1.5938119128027957]) \n",
      "19400: D: 0.649313569069/0.667797327042 G: 0.686893284321 (Real: [0.9011629776330665, 1.2901294588052892], Fake: [0.9192540730163455, 1.5044074961961247]) \n",
      "19600: D: 0.8452283144/0.55864918232 G: 0.73738181591 (Real: [1.3957870508712948, 1.6706604689100026], Fake: [0.9452660412341356, 1.3833063432870365]) \n",
      "19800: D: 0.685489237309/0.705763101578 G: 0.738781452179 (Real: [0.8764187030866742, 1.5926950507213284], Fake: [0.8232132833451032, 1.640921345676324]) \n"
     ]
    }
   ],
   "source": [
    "for epoch in range(num_epochs):\n",
    "    for d_index in range(d_steps):\n",
    "        # 1. Train D on real+fake\n",
    "        D.zero_grad()\n",
    "\n",
    "        #  1A: Train D on real\n",
    "        d_real_data = Variable(d_sampler(d_input_size))\n",
    "        p = preprocess(d_real_data)\n",
    "        d_real_decision = D(preprocess(d_real_data))\n",
    "        d_real_error = criterion(d_real_decision, Variable(torch.ones(1)))  # ones = true\n",
    "        d_real_error.backward() # compute/store gradients, but don't change params\n",
    "\n",
    "        #  1B: Train D on fake\n",
    "        d_gen_input = Variable(gi_sampler(minibatch_size, g_input_size))\n",
    "        d_fake_data = G(d_gen_input).detach()  # detach to avoid training G on these labels\n",
    "        d_fake_decision = D(preprocess(d_fake_data.t()))\n",
    "        d_fake_error = criterion(d_fake_decision, Variable(torch.zeros(1)))  # zeros = fake\n",
    "        d_fake_error.backward()\n",
    "        d_optimizer.step()     # Only optimizes D's parameters; changes based on stored gradients from backward()\n",
    "\n",
    "    for g_index in range(g_steps):\n",
    "        # 2. Train G on D's response (but DO NOT train D on these labels)\n",
    "        G.zero_grad()\n",
    "\n",
    "        gen_input = Variable(gi_sampler(minibatch_size, g_input_size))\n",
    "        g_fake_data = G(gen_input)\n",
    "        dg_fake_decision = D(preprocess(g_fake_data.t()))\n",
    "        g_error = criterion(dg_fake_decision, Variable(torch.ones(1)))  # we want to fool, so pretend it's all genuine\n",
    "\n",
    "        g_error.backward()\n",
    "        g_optimizer.step()  # Only optimizes G's parameters\n",
    "\n",
    "    if epoch % print_interval == 0:\n",
    "        print(\"%s: D: %s/%s G: %s (Real: %s, Fake: %s) \" % (epoch,\n",
    "                                                            extract(d_real_error)[0],\n",
    "                                                            extract(d_fake_error)[0],\n",
    "                                                            extract(g_error)[0],\n",
    "                                                            stats(extract(d_real_data)),\n",
    "                                                            stats(extract(d_fake_data))))\n",
    "        df.loc[epoch / print_interval] = [epoch,\n",
    "                     extract(d_real_error)[0],\n",
    "                     extract(d_fake_error)[0],\n",
    "                     extract(g_error)[0],\n",
    "                     stats(extract(d_real_data))[0],\n",
    "                     stats(extract(d_real_data))[1],\n",
    "                     stats(extract(d_fake_data))[0],\n",
    "                     stats(extract(d_fake_data))[1]]\n",
    "        # save dists\n",
    "        d_real_output.append(extract(d_real_data))\n",
    "        d_fake_output.append(extract(d_fake_data))\n"
   ]
  },
  {
   "cell_type": "code",
   "execution_count": 12,
   "metadata": {},
   "outputs": [],
   "source": [
    "import matplotlib.pyplot as plt"
   ]
  },
  {
   "cell_type": "code",
   "execution_count": 13,
   "metadata": {
    "scrolled": true
   },
   "outputs": [
    {
     "data": {
      "text/plain": [
       "<matplotlib.axes._subplots.AxesSubplot at 0x7f845041c550>"
      ]
     },
     "execution_count": 13,
     "metadata": {},
     "output_type": "execute_result"
    },
    {
     "data": {
      "image/png": "[encoded data removed]",
      "text/plain": [
       "<Figure size 432x288 with 2 Axes>"
      ]
     },
     "metadata": {},
     "output_type": "display_data"
    }
   ],
   "source": [
    "fig, axs = plt.subplots(2,1, sharex = True)\n",
    "axs = axs.ravel()\n",
    "df.plot('epoch', 'real_error', ax=axs[0])\n",
    "df.plot('epoch', 'fake_error', ax=axs[0])\n",
    "df.plot('epoch', 'g_error', ax = axs[0])\n",
    "\n",
    "df.plot('epoch', 'real_mean', ax = axs[1])\n",
    "df.plot('epoch', 'fake_mean', ax = axs[1])"
   ]
  },
  {
   "cell_type": "code",
   "execution_count": null,
   "metadata": {},
   "outputs": [
    {
     "name": "stdout",
     "output_type": "stream",
     "text": [
      "10\n"
     ]
    }
   ],
   "source": [
    "Nplots = int(np.ceil(np.sqrt(len(d_real_output))))\n",
    "print(Nplots)\n",
    "fig, axs = plt.subplots(Nplots,Nplots, sharex=True, sharey=True, figsize=(16, 16))\n",
    "axs = axs.ravel()\n",
    "for i in range(len(d_real_output)):\n",
    "    axs[i].hist(d_real_output[i], alpha = 0.5)\n",
    "    axs[i].hist(d_fake_output[i], alpha = 0.5)\n",
    "plt.show()"
   ]
  }
 ],
 "metadata": {
  "kernelspec": {
   "display_name": "Python 2",
   "language": "python",
   "name": "python2"
  },
  "language_info": {
   "codemirror_mode": {
    "name": "ipython",
    "version": 2
   },
   "file_extension": ".py",
   "mimetype": "text/x-python",
   "name": "python",
   "nbconvert_exporter": "python",
   "pygments_lexer": "ipython2",
   "version": "2.7.5"
  }
 },
 "nbformat": 4,
 "nbformat_minor": 2
}
